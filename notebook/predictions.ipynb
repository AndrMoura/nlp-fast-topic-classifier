{
 "cells": [
  {
   "cell_type": "code",
   "execution_count": 8,
   "metadata": {},
   "outputs": [],
   "source": [
    "import sys\n",
    "sys.path.append('..')"
   ]
  },
  {
   "cell_type": "code",
   "execution_count": 20,
   "metadata": {},
   "outputs": [
    {
     "name": "stderr",
     "output_type": "stream",
     "text": [
      "2024-06-25 10:01:21,446 - INFO - Initializing MilvusClassifier\n",
      "2024-06-25 10:01:21,450 - DEBUG - Created new connection using: 05001c59035a4f06b2167bbf596d921a\n",
      "2024-06-25 10:01:21,452 - INFO - Use pytorch device_name: cpu\n",
      "2024-06-25 10:01:21,452 - INFO - Load pretrained SentenceTransformer: Alibaba-NLP/gte-large-en-v1.5\n",
      "/home/andre/.local/lib/python3.10/site-packages/huggingface_hub/file_download.py:1132: FutureWarning: `resume_download` is deprecated and will be removed in version 1.0.0. Downloads always resume when possible. If you want to force a new download, use `force_download=True`.\n",
      "  warnings.warn(\n",
      "2024-06-25 10:01:27,587 - INFO - Setting up schema with dimension 1024\n",
      "2024-06-25 10:01:27,591 - INFO - Checking if index update is needed\n",
      "2024-06-25 10:01:27,601 - INFO - No index update needed\n"
     ]
    }
   ],
   "source": [
    "from src.embed_classifier import MilvusClassifier\n",
    "\n",
    "\n",
    "cls = MilvusClassifier(source_data='../data/data-sample.csv', text_col='user_text', label_col='cluster_label')"
   ]
  },
  {
   "cell_type": "code",
   "execution_count": 21,
   "metadata": {},
   "outputs": [
    {
     "name": "stderr",
     "output_type": "stream",
     "text": [
      "2024-06-25 10:01:32,422 - INFO - Predicting top 2 results for query text\n",
      "Batches: 100%|██████████| 1/1 [00:00<00:00,  6.50it/s]\n",
      "2024-06-25 10:01:32,583 - INFO - Prediction completed\n"
     ]
    },
    {
     "data": {
      "text/plain": [
       "{'label': 'SpiritualInquiry'}"
      ]
     },
     "execution_count": 21,
     "metadata": {},
     "output_type": "execute_result"
    }
   ],
   "source": [
    "res = cls.predict('A', k=2, fields=['label'])\n",
    "\n",
    "top_entity = max(res, key=lambda x: x['distance'])\n",
    "top_entity['entity']"
   ]
  },
  {
   "cell_type": "code",
   "execution_count": 17,
   "metadata": {},
   "outputs": [
    {
     "name": "stderr",
     "output_type": "stream",
     "text": [
      "2024-06-25 09:51:29,439 - INFO - Predicting top 2 results for query text\n",
      "Batches: 100%|██████████| 1/1 [00:00<00:00,  5.50it/s]\n",
      "2024-06-25 09:51:29,628 - INFO - Prediction completed\n"
     ]
    },
    {
     "data": {
      "text/plain": [
       "{'label': 'ChatbotandDiscordBotDevelopmentandHelp'}"
      ]
     },
     "execution_count": 17,
     "metadata": {},
     "output_type": "execute_result"
    }
   ],
   "source": [
    "res = cls.predict('A chatbot', k=2, fields=['label'])\n",
    "\n",
    "top_entity = max(res, key=lambda x: x['distance'])\n",
    "top_entity['entity']"
   ]
  },
  {
   "cell_type": "code",
   "execution_count": 19,
   "metadata": {},
   "outputs": [
    {
     "name": "stderr",
     "output_type": "stream",
     "text": [
      "2024-06-25 09:52:13,462 - INFO - Predicting top 2 results for query text\n",
      "Batches: 100%|██████████| 1/1 [00:00<00:00,  4.52it/s]\n",
      "2024-06-25 09:52:13,690 - INFO - Prediction completed\n"
     ]
    },
    {
     "data": {
      "text/plain": [
       "{'label': 'SpiritualInquiry'}"
      ]
     },
     "execution_count": 19,
     "metadata": {},
     "output_type": "execute_result"
    }
   ],
   "source": [
    "res = cls.predict('Can god save the human species?', k=2, fields=['label'])\n",
    "\n",
    "top_entity = max(res, key=lambda x: x['distance'])\n",
    "top_entity['entity']"
   ]
  },
  {
   "cell_type": "code",
   "execution_count": 22,
   "metadata": {},
   "outputs": [],
   "source": [
    "import pandas as pd\n",
    "\n",
    "df = pd.read_csv('../data/data.csv')"
   ]
  },
  {
   "cell_type": "code",
   "execution_count": 26,
   "metadata": {},
   "outputs": [
    {
     "data": {
      "text/plain": [
       "(1275, 60)"
      ]
     },
     "execution_count": 26,
     "metadata": {},
     "output_type": "execute_result"
    }
   ],
   "source": [
    "(df.shape[0], df['cluster_label'].nunique())"
   ]
  },
  {
   "cell_type": "code",
   "execution_count": 30,
   "metadata": {},
   "outputs": [
    {
     "data": {
      "text/plain": [
       "<Axes: >"
      ]
     },
     "execution_count": 30,
     "metadata": {},
     "output_type": "execute_result"
    },
    {
     "data": {
      "image/png": "[encoded data removed]",
      "text/plain": [
       "<Figure size 640x480 with 1 Axes>"
      ]
     },
     "metadata": {},
     "output_type": "display_data"
    }
   ],
   "source": [
    "df['cluster_label'].value_counts().hist(bins=50)"
   ]
  }
 ],
 "metadata": {
  "kernelspec": {
   "display_name": "Python 3",
   "language": "python",
   "name": "python3"
  },
  "language_info": {
   "codemirror_mode": {
    "name": "ipython",
    "version": 3
   },
   "file_extension": ".py",
   "mimetype": "text/x-python",
   "name": "python",
   "nbconvert_exporter": "python",
   "pygments_lexer": "ipython3",
   "version": "3.10.12"
  }
 },
 "nbformat": 4,
 "nbformat_minor": 2
}
